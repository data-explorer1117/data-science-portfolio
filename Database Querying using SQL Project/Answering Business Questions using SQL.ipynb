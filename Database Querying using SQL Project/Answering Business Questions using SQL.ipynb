{
 "cells": [
  {
   "cell_type": "markdown",
   "metadata": {},
   "source": [
    "## ANSWERING BUSINESS QUESTIONS USING SQL\n",
    "\n",
    "In this project, we're going to use SQL skills to answer questions pertaining to a fictional digital music business.  The database that we'll access is called \"chinook.db\".  Here is a description of a few of the tables in this database:  (1) employee - this table lists pertinent personnel information such as the employee ID, their full names, addresses, hire dates, etc.; (2) customer - this summarizes info pertaining to customer ID, full names, addresses, and the sales representative that is assigned to each customer; (3) invoice - tracks all the invoices processed which include the customer who made the purchase, location where the purchase was made, and the invoice total; (4) invoice line - tracks all the details for each of the invoices as it lists all the individual music tracks purchased per each invoice, the price of the track, and quantity bought; (5) track - provides specific info about each track such as track ID, name, album ID, genre type, etc.; (6) album - gives detailed info on the album ID, name, and the artist who produced the album.\n",
    "\n",
    "We'll be using SQL queries to determine things such as the number of tracks sold per each genre in the USA, the total dollar amount of sales made by each sales support agent in the company, and which invoice happens to be a full album purchase vs. individual track purchase."
   ]
  },
  {
   "cell_type": "code",
   "execution_count": 1,
   "metadata": {},
   "outputs": [],
   "source": [
    "import sqlite3\n",
    "import os\n",
    "import pandas as pd"
   ]
  },
  {
   "cell_type": "code",
   "execution_count": 2,
   "metadata": {},
   "outputs": [],
   "source": [
    "# connect to the chinook database\n",
    "conn = sqlite3.connect('chinook.db')"
   ]
  },
  {
   "cell_type": "markdown",
   "metadata": {},
   "source": [
    "### Overview of the data"
   ]
  },
  {
   "cell_type": "code",
   "execution_count": 3,
   "metadata": {},
   "outputs": [
    {
     "name": "stdout",
     "output_type": "stream",
     "text": [
      "              name   type\n",
      "0            album  table\n",
      "1           artist  table\n",
      "2         customer  table\n",
      "3         employee  table\n",
      "4            genre  table\n",
      "5          invoice  table\n",
      "6     invoice_line  table\n",
      "7       media_type  table\n",
      "8         playlist  table\n",
      "9   playlist_track  table\n",
      "10           track  table\n"
     ]
    }
   ],
   "source": [
    "# write a query to return information on the tables and views in the database\n",
    "cursor1 = conn.execute(\"SELECT name, type FROM sqlite_master WHERE type IN ('table', 'view')\")\n",
    "db = []\n",
    "for row in cursor1:\n",
    "    db.append(row)\n",
    "table1 = pd.DataFrame(db, columns = ['name', 'type'])\n",
    "\n",
    "print(table1)"
   ]
  },
  {
   "cell_type": "markdown",
   "metadata": {},
   "source": [
    "### Selecting new albums to purchase"
   ]
  },
  {
   "cell_type": "code",
   "execution_count": 4,
   "metadata": {},
   "outputs": [
    {
     "name": "stdout",
     "output_type": "stream",
     "text": [
      "                genre  tracks sold  percentage sold\n",
      "0                Rock          561         0.533777\n",
      "1  Alternative & Punk          130         0.123692\n",
      "2               Metal          124         0.117983\n",
      "3            R&B/Soul           53         0.050428\n",
      "4               Blues           36         0.034253\n",
      "5         Alternative           35         0.033302\n",
      "6                 Pop           22         0.020932\n",
      "7               Latin           22         0.020932\n",
      "8         Hip Hop/Rap           20         0.019029\n",
      "9                Jazz           14         0.013321\n"
     ]
    }
   ],
   "source": [
    "# write a query that returns each genre, with the number of tracks sold in the USA in absolute numbers and in percentages\n",
    "\n",
    "cursor2 = conn.execute(\"WITH usa_tracks_sold AS \\\n",
    "        (SELECT il.* FROM invoice_line il \\\n",
    "         INNER JOIN invoice i on il.invoice_id = i.invoice_id \\\n",
    "         INNER JOIN customer c on i.customer_id = c.customer_id \\\n",
    "         WHERE c.country = 'USA') \\\n",
    "        SELECT g.name genre, \\\n",
    "        count(uts.invoice_line_id) tracks_sold, \\\n",
    "        cast(count(uts.invoice_line_id) AS FLOAT) / (SELECT COUNT(*) from usa_tracks_sold) \\\n",
    "        percentage_sold \\\n",
    "        FROM usa_tracks_sold uts \\\n",
    "        INNER JOIN track t on t.track_id = uts.track_id \\\n",
    "        INNER JOIN genre g on g.genre_id = t.genre_id \\\n",
    "        GROUP BY 1 \\\n",
    "        ORDER BY 2 DESC \\\n",
    "        LIMIT 10\")  \n",
    "db1 = []\n",
    "for row in cursor2:\n",
    "    db1.append(row)\n",
    "table2 = pd.DataFrame(db1, columns = ['genre', 'tracks sold', 'percentage sold'])\n",
    "\n",
    "print(table2)"
   ]
  },
  {
   "cell_type": "markdown",
   "metadata": {},
   "source": [
    "Based on the sales of tracks across different genres in the USA, we should purchase the new albums by the following artists:\n",
    "\n",
    "Red Tone (Punk);\n",
    "Slim Jim Bites (Blues);\n",
    "Meteor and the Girls (Pop)\n",
    "\n",
    "It's worth keeping in mind that combined, these three genres only make up about 17% of the total sales, so we should be on the lookout for artists and albums from the 'rock' genre, which accounts for 53% of sales."
   ]
  },
  {
   "cell_type": "markdown",
   "metadata": {},
   "source": [
    "### Analyzing Employee Sales Performance"
   ]
  },
  {
   "cell_type": "code",
   "execution_count": 5,
   "metadata": {},
   "outputs": [
    {
     "name": "stdout",
     "output_type": "stream",
     "text": [
      "        employee            hire_date  total_sales\n",
      "0   Jane Peacock  2017-04-01 00:00:00      1731.51\n",
      "1  Margaret Park  2017-05-03 00:00:00      1584.00\n",
      "2  Steve Johnson  2017-10-17 00:00:00      1393.92\n"
     ]
    }
   ],
   "source": [
    "# write a query that finds the total dollar amount of sales assigned to each sales support agent within the company\n",
    "cursor3 = conn.execute(\"WITH customer_support_rep_sales AS \\\n",
    "                      (SELECT i.customer_id, c.support_rep_id, \\\n",
    "                      SUM(i.total) total FROM invoice i \\\n",
    "                      INNER JOIN customer c ON i.customer_id = c.customer_id \\\n",
    "                      GROUP BY 1,2) \\\n",
    "                      SELECT \\\n",
    "                      e.first_name|| ' ' ||e.last_name employee, \\\n",
    "                      e.hire_date, SUM(csrs.total) total_sales \\\n",
    "                      FROM customer_support_rep_sales csrs \\\n",
    "                      INNER JOIN employee e ON e.employee_id = csrs.support_rep_id \\\n",
    "                      GROUP BY 1\")\n",
    "db2 = []\n",
    "for row in cursor3:\n",
    "    db2.append(row)\n",
    "table3 = pd.DataFrame(db2, columns = ['employee', 'hire_date', 'total_sales'])\n",
    "\n",
    "print(table3)"
   ]
  },
  {
   "cell_type": "markdown",
   "metadata": {},
   "source": [
    "While there is a 20% difference in sales between Jane (the top employee) and Steve (the bottom employee), the difference roughly corresponds with the differences in their hiring dates. "
   ]
  },
  {
   "cell_type": "markdown",
   "metadata": {},
   "source": [
    "### Analyzing sales by country"
   ]
  },
  {
   "cell_type": "code",
   "execution_count": 6,
   "metadata": {},
   "outputs": [
    {
     "name": "stdout",
     "output_type": "stream",
     "text": [
      "          country  customers  total_sales  averaged_order  \\\n",
      "0             USA         13      1040.49        7.942672   \n",
      "1          Canada          8       535.59        7.047237   \n",
      "2          Brazil          5       427.68        7.011148   \n",
      "3          France          5       389.07        7.781400   \n",
      "4         Germany          4       334.62        8.161463   \n",
      "5  Czech Republic          2       273.24        9.108000   \n",
      "6  United Kingdom          3       245.52        8.768571   \n",
      "7        Portugal          2       185.13        6.383793   \n",
      "8           India          2       183.15        8.721429   \n",
      "9           Other         15      1094.94        7.448571   \n",
      "\n",
      "   customer_lifetime_value  \n",
      "0                80.037692  \n",
      "1                66.948750  \n",
      "2                85.536000  \n",
      "3                77.814000  \n",
      "4                83.655000  \n",
      "5               136.620000  \n",
      "6                81.840000  \n",
      "7                92.565000  \n",
      "8                91.575000  \n",
      "9                72.996000  \n"
     ]
    }
   ],
   "source": [
    "# write a query that collates data on purchases from different countries; for each country, report the total \n",
    "# no. of customers, total value of sales, average value of sales per customer, and the average order value\n",
    "\n",
    "cursor4 = conn.execute(\"WITH country_or_other AS \\\n",
    "                      (SELECT \\\n",
    "                           CASE \\\n",
    "                               WHEN (SELECT count(*) \\\n",
    "                                     FROM customer \\\n",
    "                                     where country = c.country) = 1 THEN 'Other' \\\n",
    "                                     ELSE c.country \\\n",
    "                                     END AS country, \\\n",
    "                                     c.customer_id, il.* \\\n",
    "                                     FROM invoice_line il \\\n",
    "                                     INNER JOIN invoice i ON i.invoice_id = il.invoice_id \\\n",
    "                                     INNER JOIN customer c ON c.customer_id = i.customer_id) \\\n",
    "                       SELECT \\\n",
    "                       country, customers, total_sales, average_order, customer_lifetime_value \\\n",
    "                       FROM \\\n",
    "                       (SELECT \\\n",
    "                       country, count(distinct customer_id) customers, \\\n",
    "                       SUM(unit_price) total_sales, \\\n",
    "                       SUM(unit_price) / count(distinct customer_id) customer_lifetime_value, \\\n",
    "                       SUM(unit_price) / count(distinct invoice_id) average_order, \\\n",
    "                           CASE \\\n",
    "                               WHEN country = 'Other' THEN 1 \\\n",
    "                               ELSE 0 \\\n",
    "                               END AS sort \\\n",
    "                               FROM country_or_other \\\n",
    "                               GROUP BY country \\\n",
    "                               ORDER BY sort ASC, total_sales DESC)\")\n",
    "db3 = []\n",
    "for row in cursor4:\n",
    "    db3.append(row)\n",
    "table4 = pd.DataFrame(db3, columns = ['country', 'customers', 'total_sales', 'averaged_order', 'customer_lifetime_value'])\n",
    "\n",
    "print(table4)"
   ]
  },
  {
   "cell_type": "markdown",
   "metadata": {},
   "source": [
    "Based on the data, there may be opportunity in the following countries:\n",
    "\n",
    "Czech Republic,\n",
    "United Kingdom,\n",
    "India\n",
    "\n",
    "It's worth keeping in mind that because the amount of data from each of these countries is relatively low, we should be cautious  about spending too much money on new marketing campaigns, as the sample size is not large enough to give us high confidence. A better approach would be to run small campaigns in these countries, collecting and analyzing the data from new customers to make sure that these trends still hold."
   ]
  },
  {
   "cell_type": "markdown",
   "metadata": {},
   "source": [
    "### Albums vs individual tracks"
   ]
  },
  {
   "cell_type": "code",
   "execution_count": 7,
   "metadata": {},
   "outputs": [
    {
     "name": "stdout",
     "output_type": "stream",
     "text": [
      "  album_purchase  number_of_invoices   percent\n",
      "0             no                 500  0.814332\n",
      "1            yes                 114  0.185668\n"
     ]
    }
   ],
   "source": [
    "# write a query that categorizes each invoice as either a full album purchase or not\n",
    "cursor5 = conn.execute(\"WITH invoice_first_track AS \\\n",
    "                      (SELECT \\\n",
    "                      il.invoice_id invoice_id, MIN(il.track_id) first_track_id \\\n",
    "                      FROM invoice_line il \\\n",
    "                      GROUP BY 1) \\\n",
    "                      SELECT album_purchase, \\\n",
    "                      COUNT(invoice_id) number_of_invoices, \\\n",
    "                      CAST(count(invoice_id) AS FLOAT) / (SELECT COUNT(*) FROM invoice) percent \\\n",
    "                      FROM \\\n",
    "                      (SELECT ifs.*, \\\n",
    "                      CASE \\\n",
    "                           WHEN \\\n",
    "                     (SELECT t.track_id FROM track t \\\n",
    "                      WHERE t.album_id = (SELECT t2.album_id FROM track t2 \\\n",
    "                                          WHERE t2.track_id = ifs.first_track_id) \\\n",
    "                     EXCEPT \\\n",
    "                     SELECT il2.track_id FROM invoice_line il2 \\\n",
    "                     WHERE il2.invoice_id = ifs.invoice_id) IS NULL \\\n",
    "                     AND \\\n",
    "                     (SELECT il2.track_id FROM invoice_line il2 \\\n",
    "                     WHERE il2.invoice_id = ifs.invoice_id \\\n",
    "                     EXCEPT \\\n",
    "                     SELECT t.track_id FROM track t \\\n",
    "                     WHERE t.album_id = (SELECT t2.album_id FROM track t2 \\\n",
    "                                         WHERE t2.track_id = ifs.first_track_id)) IS NULL \\\n",
    "                     THEN 'yes' \\\n",
    "                     ELSE 'no' \\\n",
    "                     END AS 'album_purchase' \\\n",
    "                     FROM invoice_first_track ifs) \\\n",
    "                     GROUP BY album_purchase\")\n",
    "db4 = []\n",
    "for row in cursor5:\n",
    "    db4.append(row)\n",
    "table5 = pd.DataFrame(db4, columns = ['album_purchase', 'number_of_invoices', 'percent']) \n",
    "\n",
    "print(table5)"
   ]
  },
  {
   "cell_type": "markdown",
   "metadata": {},
   "source": [
    "Album purchases account for as much as 18.6% of all the purchases! Based on this data, I would recommend against purchasing only select tracks from albums from record companies, since there is potential to lose one fifth of the revenue."
   ]
  }
 ],
 "metadata": {
  "kernelspec": {
   "display_name": "Python 3",
   "language": "python",
   "name": "python3"
  },
  "language_info": {
   "codemirror_mode": {
    "name": "ipython",
    "version": 3
   },
   "file_extension": ".py",
   "mimetype": "text/x-python",
   "name": "python",
   "nbconvert_exporter": "python",
   "pygments_lexer": "ipython3",
   "version": "3.7.6"
  }
 },
 "nbformat": 4,
 "nbformat_minor": 4
}
